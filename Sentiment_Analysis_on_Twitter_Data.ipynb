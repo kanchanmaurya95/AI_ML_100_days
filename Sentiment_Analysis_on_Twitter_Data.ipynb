{
  "nbformat": 4,
  "nbformat_minor": 0,
  "metadata": {
    "colab": {
      "provenance": [],
      "authorship_tag": "ABX9TyM3Qu43QVTaKf07ZdhGmq6i",
      "include_colab_link": true
    },
    "kernelspec": {
      "name": "python3",
      "display_name": "Python 3"
    },
    "language_info": {
      "name": "python"
    }
  },
  "cells": [
    {
      "cell_type": "markdown",
      "metadata": {
        "id": "view-in-github",
        "colab_type": "text"
      },
      "source": [
        "<a href=\"https://colab.research.google.com/github/kanchanmaurya95/AI_ML_100_days/blob/main/Sentiment_Analysis_on_Twitter_Data.ipynb\" target=\"_parent\"><img src=\"https://colab.research.google.com/assets/colab-badge.svg\" alt=\"Open In Colab\"/></a>"
      ]
    },
    {
      "cell_type": "markdown",
      "source": [
        "# **Introduction to Sentiment Analysis on Twitter Data**\n",
        "In this project, we delve into the fascinating world of Natural Language Processing (NLP) by performing sentiment analysis on Twitter data. Sentiment analysis, also known as opinion mining, is a subfield of NLP that involves analyzing text to determine the sentiment behind it. This can be particularly useful for businesses, policymakers, and individuals who wish to gauge public opinion on various topics, products, or services.\n",
        "\n",
        "Twitter, with its vast trove of short, opinion-rich texts, provides an excellent dataset for sentiment analysis. Each tweet is a reflection of the user's feelings, opinions, or thoughts on a subject, making Twitter an invaluable resource for understanding public sentiment.\n",
        "\n",
        "**Key Concepts**\n",
        "Sentiment Analysis: At its core, sentiment analysis involves classifying text as positive, negative, or neutral based on the emotion conveyed. This can be extended to detect more specific sentiments like happiness, anger, or surprise.\n",
        "\n",
        "**Natural Language Processing (NLP):** NLP is a field of artificial intelligence that focuses on enabling machines to understand, interpret, and respond to human language in a valuable way.\n",
        "\n",
        "**Machine Learning in NLP:** Sentiment analysis typically involves machine learning, where algorithms learn to classify text based on a training dataset.\n",
        "\n",
        "**Project Steps**\n",
        "1. **Data Acquisition:** We use the Sentiment140 dataset, a popular choice containing 1.6 million tweets labeled for sentiment. This dataset is loaded using Deeplake, a Python client for Activeloop Hub.\n",
        "\n",
        "https://datasets.activeloop.ai/docs/ml/datasets/sentiment-140-dataset/#:~:text=Sentiment%2D140%20dataset%20has%20800%2C000,only%20some%20data%20containing%20emoticons.\n",
        "\n",
        "2. **Data Preprocessing:** Tweets are preprocessed to convert them into a format suitable for analysis. This includes tokenization (splitting text into individual words or tokens), removing stop words (common words that don't contribute much meaning), and stemming (reducing words to their base form).\n",
        "\n",
        "3. **Feature Extraction:** The preprocessed text is transformed into numerical values using the Term Frequency-Inverse Document Frequency (TF-IDF) method, which reflects the importance of words within the dataset.\n",
        "\n",
        "4. **Model Training:** We employ the Naive Bayes classifier, a popular choice for text classification tasks due to its simplicity and effectiveness. The model is trained on a portion of the dataset to learn the correlation between features (words) and labels (sentiments).\n",
        "\n",
        "5. **Model Evaluation:** The performance of the model is evaluated using metrics such as accuracy, precision, recall, and F1-score. These metrics provide insight into how well the model is classifying the sentiments.\n",
        "\n",
        "6. **Prediction and Analysis:** Finally, the trained model is used to predict sentiments of new tweets, allowing us to analyze public opinion on various topics.\n",
        "\n",
        "Through this project, we aim to demonstrate the power of machine learning and NLP in extracting meaningful insights from textual data, particularly from social media platforms like Twitter."
      ],
      "metadata": {
        "id": "blBEMsTSgqEj"
      }
    },
    {
      "cell_type": "code",
      "source": [
        "import deeplake\n",
        "import pandas as pd\n",
        "from sklearn.model_selection import train_test_split\n",
        "from sklearn.feature_extraction.text import TfidfVectorizer\n",
        "from sklearn.naive_bayes import MultinomialNB\n",
        "from sklearn.metrics import accuracy_score, precision_score, recall_score, f1_score, confusion_matrix\n",
        "import nltk\n",
        "from nltk.corpus import stopwords\n",
        "from nltk.stem import PorterStemmer\n",
        "from nltk.tokenize import word_tokenize\n",
        "import re\n"
      ],
      "metadata": {
        "id": "eSg72WHlc6NX"
      },
      "execution_count": 27,
      "outputs": []
    },
    {
      "cell_type": "code",
      "source": [
        "# Download required NLTK data\n",
        "nltk.download('punkt')\n",
        "nltk.download('stopwords')\n",
        "\n"
      ],
      "metadata": {
        "colab": {
          "base_uri": "https://localhost:8080/"
        },
        "id": "yRch28uBc8Uw",
        "outputId": "1284469e-1e0f-4a32-d695-535d22512fdd"
      },
      "execution_count": 28,
      "outputs": [
        {
          "output_type": "stream",
          "name": "stderr",
          "text": [
            "[nltk_data] Downloading package punkt to /root/nltk_data...\n",
            "[nltk_data]   Package punkt is already up-to-date!\n",
            "[nltk_data] Downloading package stopwords to /root/nltk_data...\n",
            "[nltk_data]   Package stopwords is already up-to-date!\n"
          ]
        },
        {
          "output_type": "execute_result",
          "data": {
            "text/plain": [
              "True"
            ]
          },
          "metadata": {},
          "execution_count": 28
        }
      ]
    },
    {
      "cell_type": "code",
      "source": [
        "# Function to preprocess tweets\n",
        "def preprocess_tweet(tweet):\n",
        "    # Remove handles (@user)\n",
        "    tweet = re.sub(r'@[A-Za-z0-9_]+', '', tweet)\n",
        "\n",
        "    # Remove URLs\n",
        "    tweet = re.sub(r'https?://[A-Za-z0-9./]+', '', tweet)\n",
        "\n",
        "    # Tokenize and remove stop words\n",
        "    tokens = word_tokenize(tweet.lower())\n",
        "    stop_words = set(stopwords.words('english'))\n",
        "    stemmer = PorterStemmer()\n",
        "\n",
        "    processed_tokens = [stemmer.stem(word) for word in tokens if word.isalpha() and word not in stop_words]\n",
        "    return ' '.join(processed_tokens)\n"
      ],
      "metadata": {
        "id": "mPHCk4Ekc_4D"
      },
      "execution_count": 29,
      "outputs": []
    },
    {
      "cell_type": "code",
      "source": [
        "\n",
        "# Load the dataset from Activeloop Hub\n",
        "ds = deeplake.load(\"hub://activeloop/sentiment-140-test\")\n",
        "\n"
      ],
      "metadata": {
        "colab": {
          "base_uri": "https://localhost:8080/"
        },
        "id": "fj2GEakndCRw",
        "outputId": "c33b36ce-a370-4c48-a3ce-18b4adc7dac5"
      },
      "execution_count": 30,
      "outputs": [
        {
          "output_type": "stream",
          "name": "stderr",
          "text": [
            "\\"
          ]
        },
        {
          "output_type": "stream",
          "name": "stdout",
          "text": [
            "Opening dataset in read-only mode as you don't have write permissions.\n"
          ]
        },
        {
          "output_type": "stream",
          "name": "stderr",
          "text": [
            "\\"
          ]
        },
        {
          "output_type": "stream",
          "name": "stdout",
          "text": [
            "This dataset can be visualized in Jupyter Notebook by ds.visualize() or at https://app.activeloop.ai/activeloop/sentiment-140-test\n",
            "\n"
          ]
        },
        {
          "output_type": "stream",
          "name": "stderr",
          "text": [
            "/"
          ]
        },
        {
          "output_type": "stream",
          "name": "stdout",
          "text": [
            "hub://activeloop/sentiment-140-test loaded successfully.\n",
            "\n"
          ]
        },
        {
          "output_type": "stream",
          "name": "stderr",
          "text": [
            "\r \r\r\r"
          ]
        }
      ]
    },
    {
      "cell_type": "code",
      "source": [
        "\n",
        "\n",
        "# Check the dimensions of the tensors\n",
        "print(\"Tweet text tensor shape:\", ds['tweet_text'].numpy().shape)\n",
        "print(\"Sentiment tensor shape:\", ds['sentiment_type'].numpy().shape)\n",
        "\n",
        "# Convert to DataFrame\n",
        "# Assuming both tensors are now 1D, you can proceed with the DataFrame conversion\n",
        "# If they are not 1D, you will need to reshape or process them accordingly\n"
      ],
      "metadata": {
        "colab": {
          "base_uri": "https://localhost:8080/"
        },
        "id": "p85PAjSjeJiY",
        "outputId": "04dc3294-ab12-48a7-c3dd-c89d105b1f68"
      },
      "execution_count": 31,
      "outputs": [
        {
          "output_type": "stream",
          "name": "stdout",
          "text": [
            "Tweet text tensor shape: (498, 1)\n",
            "Sentiment tensor shape: (498, 1)\n"
          ]
        }
      ]
    },
    {
      "cell_type": "code",
      "source": [
        "# Flatten the tensors and convert to DataFrame\n",
        "tweets = ds['tweet_text'].numpy().flatten()\n",
        "sentiments = ds['sentiment_type'].numpy().flatten()\n",
        "df = pd.DataFrame({'tweet': tweets, 'sentiment': sentiments})"
      ],
      "metadata": {
        "id": "ZKwrpJ0cehuk"
      },
      "execution_count": 32,
      "outputs": []
    },
    {
      "cell_type": "code",
      "source": [
        "# Map the sentiment labels\n",
        "df['sentiment'] = df['sentiment'].map({0: 'negative', 2: 'neutral', 4: 'positive'}).astype(str)\n",
        "\n",
        "# Preprocess the tweets again\n",
        "df['processed_tweet'] = df['tweet'].apply(preprocess_tweet)\n",
        "\n",
        "\n"
      ],
      "metadata": {
        "id": "kg6F33j9dF6j"
      },
      "execution_count": 33,
      "outputs": []
    },
    {
      "cell_type": "code",
      "source": [
        "# Split dataset into training and testing set\n",
        "X_train, X_test, y_train, y_test = train_test_split(df['processed_tweet'], df['sentiment'], test_size=0.2, random_state=42)\n",
        "\n",
        "\n"
      ],
      "metadata": {
        "id": "lum_OQlbdiaz"
      },
      "execution_count": 34,
      "outputs": []
    },
    {
      "cell_type": "code",
      "source": [
        "print(y_train.dtypes)\n",
        "print(y_train.unique())\n"
      ],
      "metadata": {
        "colab": {
          "base_uri": "https://localhost:8080/"
        },
        "id": "zxBjSisvfKcI",
        "outputId": "475db3a7-1a7d-493e-a9d9-64d570dbb5d5"
      },
      "execution_count": 35,
      "outputs": [
        {
          "output_type": "stream",
          "name": "stdout",
          "text": [
            "object\n",
            "['positive' 'negative' 'neutral']\n"
          ]
        }
      ]
    },
    {
      "cell_type": "code",
      "source": [
        "# Vectorize the text\n",
        "vectorizer = TfidfVectorizer()\n",
        "X_train_tfidf = vectorizer.fit_transform(X_train)\n",
        "X_test_tfidf = vectorizer.transform(X_test)\n",
        "\n",
        "\n"
      ],
      "metadata": {
        "id": "4rmwhy6HdHjp"
      },
      "execution_count": 36,
      "outputs": []
    },
    {
      "cell_type": "code",
      "source": [
        "# Train Naive Bayes classifier\n",
        "clf = MultinomialNB()\n",
        "clf.fit(X_train_tfidf, y_train)\n",
        "\n"
      ],
      "metadata": {
        "colab": {
          "base_uri": "https://localhost:8080/",
          "height": 75
        },
        "id": "nXLV_-RGdJi0",
        "outputId": "d40ecbcc-47bb-4f87-b50f-9bfda0dd10e3"
      },
      "execution_count": 37,
      "outputs": [
        {
          "output_type": "execute_result",
          "data": {
            "text/plain": [
              "MultinomialNB()"
            ],
            "text/html": [
              "<style>#sk-container-id-2 {color: black;background-color: white;}#sk-container-id-2 pre{padding: 0;}#sk-container-id-2 div.sk-toggleable {background-color: white;}#sk-container-id-2 label.sk-toggleable__label {cursor: pointer;display: block;width: 100%;margin-bottom: 0;padding: 0.3em;box-sizing: border-box;text-align: center;}#sk-container-id-2 label.sk-toggleable__label-arrow:before {content: \"▸\";float: left;margin-right: 0.25em;color: #696969;}#sk-container-id-2 label.sk-toggleable__label-arrow:hover:before {color: black;}#sk-container-id-2 div.sk-estimator:hover label.sk-toggleable__label-arrow:before {color: black;}#sk-container-id-2 div.sk-toggleable__content {max-height: 0;max-width: 0;overflow: hidden;text-align: left;background-color: #f0f8ff;}#sk-container-id-2 div.sk-toggleable__content pre {margin: 0.2em;color: black;border-radius: 0.25em;background-color: #f0f8ff;}#sk-container-id-2 input.sk-toggleable__control:checked~div.sk-toggleable__content {max-height: 200px;max-width: 100%;overflow: auto;}#sk-container-id-2 input.sk-toggleable__control:checked~label.sk-toggleable__label-arrow:before {content: \"▾\";}#sk-container-id-2 div.sk-estimator input.sk-toggleable__control:checked~label.sk-toggleable__label {background-color: #d4ebff;}#sk-container-id-2 div.sk-label input.sk-toggleable__control:checked~label.sk-toggleable__label {background-color: #d4ebff;}#sk-container-id-2 input.sk-hidden--visually {border: 0;clip: rect(1px 1px 1px 1px);clip: rect(1px, 1px, 1px, 1px);height: 1px;margin: -1px;overflow: hidden;padding: 0;position: absolute;width: 1px;}#sk-container-id-2 div.sk-estimator {font-family: monospace;background-color: #f0f8ff;border: 1px dotted black;border-radius: 0.25em;box-sizing: border-box;margin-bottom: 0.5em;}#sk-container-id-2 div.sk-estimator:hover {background-color: #d4ebff;}#sk-container-id-2 div.sk-parallel-item::after {content: \"\";width: 100%;border-bottom: 1px solid gray;flex-grow: 1;}#sk-container-id-2 div.sk-label:hover label.sk-toggleable__label {background-color: #d4ebff;}#sk-container-id-2 div.sk-serial::before {content: \"\";position: absolute;border-left: 1px solid gray;box-sizing: border-box;top: 0;bottom: 0;left: 50%;z-index: 0;}#sk-container-id-2 div.sk-serial {display: flex;flex-direction: column;align-items: center;background-color: white;padding-right: 0.2em;padding-left: 0.2em;position: relative;}#sk-container-id-2 div.sk-item {position: relative;z-index: 1;}#sk-container-id-2 div.sk-parallel {display: flex;align-items: stretch;justify-content: center;background-color: white;position: relative;}#sk-container-id-2 div.sk-item::before, #sk-container-id-2 div.sk-parallel-item::before {content: \"\";position: absolute;border-left: 1px solid gray;box-sizing: border-box;top: 0;bottom: 0;left: 50%;z-index: -1;}#sk-container-id-2 div.sk-parallel-item {display: flex;flex-direction: column;z-index: 1;position: relative;background-color: white;}#sk-container-id-2 div.sk-parallel-item:first-child::after {align-self: flex-end;width: 50%;}#sk-container-id-2 div.sk-parallel-item:last-child::after {align-self: flex-start;width: 50%;}#sk-container-id-2 div.sk-parallel-item:only-child::after {width: 0;}#sk-container-id-2 div.sk-dashed-wrapped {border: 1px dashed gray;margin: 0 0.4em 0.5em 0.4em;box-sizing: border-box;padding-bottom: 0.4em;background-color: white;}#sk-container-id-2 div.sk-label label {font-family: monospace;font-weight: bold;display: inline-block;line-height: 1.2em;}#sk-container-id-2 div.sk-label-container {text-align: center;}#sk-container-id-2 div.sk-container {/* jupyter's `normalize.less` sets `[hidden] { display: none; }` but bootstrap.min.css set `[hidden] { display: none !important; }` so we also need the `!important` here to be able to override the default hidden behavior on the sphinx rendered scikit-learn.org. See: https://github.com/scikit-learn/scikit-learn/issues/21755 */display: inline-block !important;position: relative;}#sk-container-id-2 div.sk-text-repr-fallback {display: none;}</style><div id=\"sk-container-id-2\" class=\"sk-top-container\"><div class=\"sk-text-repr-fallback\"><pre>MultinomialNB()</pre><b>In a Jupyter environment, please rerun this cell to show the HTML representation or trust the notebook. <br />On GitHub, the HTML representation is unable to render, please try loading this page with nbviewer.org.</b></div><div class=\"sk-container\" hidden><div class=\"sk-item\"><div class=\"sk-estimator sk-toggleable\"><input class=\"sk-toggleable__control sk-hidden--visually\" id=\"sk-estimator-id-2\" type=\"checkbox\" checked><label for=\"sk-estimator-id-2\" class=\"sk-toggleable__label sk-toggleable__label-arrow\">MultinomialNB</label><div class=\"sk-toggleable__content\"><pre>MultinomialNB()</pre></div></div></div></div></div>"
            ]
          },
          "metadata": {},
          "execution_count": 37
        }
      ]
    },
    {
      "cell_type": "code",
      "source": [
        "\n",
        "# Predict on test set\n",
        "y_pred = clf.predict(X_test_tfidf)\n",
        "\n"
      ],
      "metadata": {
        "id": "EU1Za3R8dL3r"
      },
      "execution_count": 38,
      "outputs": []
    },
    {
      "cell_type": "code",
      "source": [
        "# Evaluate the model\n",
        "accuracy = accuracy_score(y_test, y_pred)\n",
        "precision = precision_score(y_test, y_pred, average='weighted')\n",
        "recall = recall_score(y_test, y_pred, average='weighted')\n",
        "f1 = f1_score(y_test, y_pred, average='weighted')\n",
        "\n",
        "print(f\"Accuracy: {accuracy}\")\n",
        "print(f\"Precision (Weighted): {precision}\")\n",
        "print(f\"Recall (Weighted): {recall}\")\n",
        "print(f\"F1 Score (Weighted): {f1}\")\n"
      ],
      "metadata": {
        "colab": {
          "base_uri": "https://localhost:8080/"
        },
        "id": "MU-ZHJC_dNN0",
        "outputId": "2544ecbf-d4b0-4fbe-8485-346fbb14464a"
      },
      "execution_count": 39,
      "outputs": [
        {
          "output_type": "stream",
          "name": "stdout",
          "text": [
            "Accuracy: 0.65\n",
            "Precision (Weighted): 0.7012058212058213\n",
            "Recall (Weighted): 0.65\n",
            "F1 Score (Weighted): 0.6270854441067207\n"
          ]
        }
      ]
    },
    {
      "cell_type": "code",
      "source": [
        "\n"
      ],
      "metadata": {
        "id": "IHqJBwIidOvj"
      },
      "execution_count": 39,
      "outputs": []
    },
    {
      "cell_type": "code",
      "source": [
        "# Select the first 50 tweets from the original dataset\n",
        "first_5_tweets = df['tweet'].head(50)\n",
        "\n",
        "# Preprocess these tweets\n",
        "processed_tweets = first_5_tweets.apply(preprocess_tweet)\n",
        "\n",
        "# Vectorize these tweets\n",
        "vectorized_tweets = vectorizer.transform(processed_tweets)\n",
        "\n",
        "# Predict sentiment\n",
        "predicted_sentiment = clf.predict(vectorized_tweets)\n",
        "\n",
        "# Display the results\n",
        "for tweet, sentiment in zip(first_5_tweets, predicted_sentiment):\n",
        "    print(f\"Tweet: {tweet}\")\n",
        "    print(f\"Predicted Sentiment: {sentiment}\\n\")\n"
      ],
      "metadata": {
        "colab": {
          "base_uri": "https://localhost:8080/"
        },
        "id": "PreUIhzddQW9",
        "outputId": "0af56428-8cc2-4dd0-bf45-14a134391c85"
      },
      "execution_count": 40,
      "outputs": [
        {
          "output_type": "stream",
          "name": "stdout",
          "text": [
            "Tweet: @stellargirl I loooooooovvvvvveee my Kindle2. Not that the DX is cool, but the 2 is fantastic in its own right.\n",
            "Predicted Sentiment: positive\n",
            "\n",
            "Tweet: Reading my kindle2...  Love it... Lee childs is good read.\n",
            "Predicted Sentiment: positive\n",
            "\n",
            "Tweet: Ok, first assesment of the #kindle2 ...it fucking rocks!!!\n",
            "Predicted Sentiment: negative\n",
            "\n",
            "Tweet: @kenburbary You'll love your Kindle2. I've had mine for a few months and never looked back. The new big one is huge! No need for remorse! :)\n",
            "Predicted Sentiment: positive\n",
            "\n",
            "Tweet: @mikefish  Fair enough. But i have the Kindle2 and I think it's perfect  :)\n",
            "Predicted Sentiment: positive\n",
            "\n",
            "Tweet: @richardebaker no. it is too big. I'm quite happy with the Kindle2.\n",
            "Predicted Sentiment: positive\n",
            "\n",
            "Tweet: Fuck this economy. I hate aig and their non loan given asses.\n",
            "Predicted Sentiment: negative\n",
            "\n",
            "Tweet: Jquery is my new best friend.\n",
            "Predicted Sentiment: positive\n",
            "\n",
            "Tweet: Loves twitter\n",
            "Predicted Sentiment: positive\n",
            "\n",
            "Tweet: how can you not love Obama? he makes jokes about himself.\n",
            "Predicted Sentiment: positive\n",
            "\n",
            "Tweet: Check this video out -- President Obama at the White House Correspondents' Dinner http://bit.ly/IMXUM\n",
            "Predicted Sentiment: neutral\n",
            "\n",
            "Tweet: @Karoli I firmly believe that Obama/Pelosi have ZERO desire to be civil.  It's a charade and a slogan, but they want to destroy conservatism\n",
            "Predicted Sentiment: negative\n",
            "\n",
            "Tweet: House Correspondents dinner was last night whoopi, barbara &amp; sherri went, Obama got a standing ovation\n",
            "Predicted Sentiment: positive\n",
            "\n",
            "Tweet: Watchin Espn..Jus seen this new Nike Commerical with a Puppet Lebron..sh*t was hilarious...LMAO!!!\n",
            "Predicted Sentiment: positive\n",
            "\n",
            "Tweet: dear nike, stop with the flywire. that shit is a waste of science. and ugly. love, @vincentx24x\n",
            "Predicted Sentiment: negative\n",
            "\n",
            "Tweet: #lebron best athlete of our generation, if not all time (basketball related) I don't want to get into inter-sport debates about   __1/2\n",
            "Predicted Sentiment: positive\n",
            "\n",
            "Tweet: I was talking to this guy last night and he was telling me that he is a die hard Spurs fan.  He also told me that he hates LeBron James.\n",
            "Predicted Sentiment: negative\n",
            "\n",
            "Tweet: i love lebron. http://bit.ly/PdHur\n",
            "Predicted Sentiment: positive\n",
            "\n",
            "Tweet: @ludajuice Lebron is a Beast, but I'm still cheering 4 the A..til the end.\n",
            "Predicted Sentiment: positive\n",
            "\n",
            "Tweet: @Pmillzz lebron IS THE BOSS\n",
            "Predicted Sentiment: positive\n",
            "\n",
            "Tweet: @sketchbug Lebron is a hometown hero to me, lol I love the Lakers but let's go Cavs, lol\n",
            "Predicted Sentiment: positive\n",
            "\n",
            "Tweet: lebron and zydrunas are such an awesome duo\n",
            "Predicted Sentiment: positive\n",
            "\n",
            "Tweet: @wordwhizkid Lebron is a beast... nobody in the NBA comes even close.\n",
            "Predicted Sentiment: positive\n",
            "\n",
            "Tweet: downloading apps for my iphone! So much fun :-) There literally is an app for just about anything.\n",
            "Predicted Sentiment: positive\n",
            "\n",
            "Tweet: good news, just had a call from the Visa office, saying everything is fine.....what a relief! I am sick of scams out there! Stealing!\n",
            "Predicted Sentiment: positive\n",
            "\n",
            "Tweet: http://twurl.nl/epkr4b - awesome come back from @biz (via @fredwilson)\n",
            "Predicted Sentiment: positive\n",
            "\n",
            "Tweet: In montreal for a long weekend of R&amp;R. Much needed.\n",
            "Predicted Sentiment: positive\n",
            "\n",
            "Tweet: Booz Allen Hamilton has a bad ass homegrown social collaboration platform. Way cool!  #ttiv\n",
            "Predicted Sentiment: positive\n",
            "\n",
            "Tweet: [#MLUC09] Customer Innovation Award Winner: Booz Allen Hamilton -- http://ping.fm/c2hPP\n",
            "Predicted Sentiment: positive\n",
            "\n",
            "Tweet: @SoChi2 I current use the Nikon D90 and love it, but not as much as the Canon 40D/50D. I chose the D90 for the  video feature. My mistake.\n",
            "Predicted Sentiment: positive\n",
            "\n",
            "Tweet: need suggestions for a good IR filter for my canon 40D ... got some? pls DM\n",
            "Predicted Sentiment: positive\n",
            "\n",
            "Tweet: @surfit: I just checked my google for my business- blip shows up as the second entry! Huh. Is that a good or ba... ? http://blip.fm/~6emhv\n",
            "Predicted Sentiment: neutral\n",
            "\n",
            "Tweet: @phyreman9 Google is always a good place to look. Should've mentioned I worked on the Mustang w/ my Dad, @KimbleT.\n",
            "Predicted Sentiment: positive\n",
            "\n",
            "Tweet: Played with an android google phone. The slide out screen scares me I would break that fucker so fast. Still prefer my iPhone.\n",
            "Predicted Sentiment: negative\n",
            "\n",
            "Tweet: US planning to resume the military tribunals at Guantanamo Bay... only this time those on trial will be AIG execs and Chrysler debt holders\n",
            "Predicted Sentiment: negative\n",
            "\n",
            "Tweet: omg so bored &amp; my tattoooos are so itchy!!  help! aha =)\n",
            "Predicted Sentiment: negative\n",
            "\n",
            "Tweet: I'm itchy and miserable!\n",
            "Predicted Sentiment: negative\n",
            "\n",
            "Tweet: @sekseemess no. I'm not itchy for now. Maybe later, lol.\n",
            "Predicted Sentiment: negative\n",
            "\n",
            "Tweet: RT @jessverr I love the nerdy Stanford human biology videos - makes me miss school. http://bit.ly/13t7NR\n",
            "Predicted Sentiment: positive\n",
            "\n",
            "Tweet: @spinuzzi: Has been a bit crazy, with steep learning curve, but LyX is really good for long docs. For anything shorter, it would be insane.\n",
            "Predicted Sentiment: positive\n",
            "\n",
            "Tweet: I'm listening to \"P.Y.T\" by Danny Gokey &lt;3 &lt;3 &lt;3 Aww, he's so amazing. I &lt;3 him so much :)\n",
            "Predicted Sentiment: positive\n",
            "\n",
            "Tweet: is going to sleep then on a bike ride:]\n",
            "Predicted Sentiment: positive\n",
            "\n",
            "Tweet: cant sleep... my tooth is aching.\n",
            "Predicted Sentiment: negative\n",
            "\n",
            "Tweet: Blah, blah, blah same old same old. No plans today, going back to sleep I guess.\n",
            "Predicted Sentiment: negative\n",
            "\n",
            "Tweet: glad i didnt do Bay to Breakers today, it's 1000 freaking degrees in San Francisco wtf\n",
            "Predicted Sentiment: negative\n",
            "\n",
            "Tweet: is in San Francisco at Bay to Breakers.\n",
            "Predicted Sentiment: neutral\n",
            "\n",
            "Tweet: just landed at San Francisco\n",
            "Predicted Sentiment: neutral\n",
            "\n",
            "Tweet: San Francisco today.  Any suggestions?\n",
            "Predicted Sentiment: neutral\n",
            "\n",
            "Tweet: ?Obama Administration Must Stop Bonuses to AIG Ponzi Schemers ... http://bit.ly/2CUIg\n",
            "Predicted Sentiment: negative\n",
            "\n",
            "Tweet: started to think that Citi is in really deep s&amp;^t. Are they gonna survive the turmoil or are they gonna be the next AIG?\n",
            "Predicted Sentiment: negative\n",
            "\n"
          ]
        }
      ]
    },
    {
      "cell_type": "code",
      "source": [],
      "metadata": {
        "id": "eddEWpvYdR01"
      },
      "execution_count": 40,
      "outputs": []
    }
  ]
}